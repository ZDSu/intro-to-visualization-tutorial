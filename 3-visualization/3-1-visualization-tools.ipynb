{
 "cells": [
  {
   "cell_type": "markdown",
   "metadata": {},
   "source": [
    "# 3-1-可視化ツール"
   ]
  },
  {
   "cell_type": "markdown",
   "metadata": {},
   "source": [
    "## 3-1-1-可視化ツールの分類\n",
    "\n",
    "> https://github.com/rougier/python-visualization-landscape\n",
    "\n",
    "![](https://github.com/rougier/python-visualization-landscape/blob/master/landscape-colors.png?raw=true)\n",
    "\n",
    "大まかには下記の2つに分類される\n",
    "\n",
    "* Matplotlibをベースとした静的な画像に描画するツール\n",
    "* JavaScriptをベースとしたHTMLにレンダリングするツール\n",
    "\n",
    "## 3-1-2-代表的な可視化ツール\n",
    "\n",
    "### Matplotlib\n",
    "\n",
    "* Pythonで最も広く使われている可視化ツール\n",
    "* pandasやseabornなどから間接的に使われることも\n",
    "* MATLABライクな記述方法とPythonライクな記述方法がある\n",
    "\n",
    "### seaborn\n",
    "\n",
    "* MatplotlibやScipyなどを利用して統計的なグラフを作成できる\n",
    "* 特定の目的に沿ったグラフを短いコードで記述できる\n",
    "\n",
    "### Bokeh\n",
    "\n",
    "* JavaScriptでレンダリングされたグラフをPythonで記述できる\n",
    "* 対話的で動きがあるグラフを作成できる\n",
    "* Pythonユーザを意識した設計になっている\n",
    "\n",
    "### Plotly\n",
    "\n",
    "* JavaScriptでレンダリングされたグラフをPythonで記述できる\n",
    "* 対話的で動きがあるグラフを作成できる\n",
    "* 多言語に対応している（JavaScript, R, Juliaなど）"
   ]
  },
  {
   "cell_type": "code",
   "execution_count": null,
   "metadata": {},
   "outputs": [],
   "source": []
  }
 ],
 "metadata": {
  "kernelspec": {
   "display_name": "Python 3",
   "language": "python",
   "name": "python3"
  },
  "language_info": {
   "codemirror_mode": {
    "name": "ipython",
    "version": 3
   },
   "file_extension": ".py",
   "mimetype": "text/x-python",
   "name": "python",
   "nbconvert_exporter": "python",
   "pygments_lexer": "ipython3",
   "version": "3.7.2"
  }
 },
 "nbformat": 4,
 "nbformat_minor": 2
}
