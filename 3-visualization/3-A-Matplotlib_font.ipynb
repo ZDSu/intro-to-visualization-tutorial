{
 "cells": [
  {
   "cell_type": "markdown",
   "metadata": {
    "colab_type": "text",
    "id": "HFGHWqNpI9CO"
   },
   "source": [
    "# 3-A-Matplotlibの日本語フォント設定\n",
    "\n",
    "## Colab上に設定する場合\n",
    "\n",
    "フォントをインストール"
   ]
  },
  {
   "cell_type": "code",
   "execution_count": 0,
   "metadata": {
    "colab": {
     "base_uri": "https://localhost:8080/",
     "height": 549
    },
    "colab_type": "code",
    "id": "xxXzPE6yI37A",
    "outputId": "6773c9f0-5d29-46c3-d69b-7e014ba0ab5c"
   },
   "outputs": [
    {
     "name": "stdout",
     "output_type": "stream",
     "text": [
      "Reading package lists... Done\n",
      "Building dependency tree       \n",
      "Reading state information... Done\n",
      "The following package was automatically installed and is no longer required:\n",
      "  libnvidia-common-410\n",
      "Use 'apt autoremove' to remove it.\n",
      "The following additional packages will be installed:\n",
      "  fonts-ipafont-mincho\n",
      "The following NEW packages will be installed:\n",
      "  fonts-ipafont-gothic fonts-ipafont-mincho\n",
      "0 upgraded, 2 newly installed, 0 to remove and 6 not upgraded.\n",
      "Need to get 8,251 kB of archives.\n",
      "After this operation, 28.7 MB of additional disk space will be used.\n",
      "Get:1 http://archive.ubuntu.com/ubuntu bionic/universe amd64 fonts-ipafont-gothic all 00303-18ubuntu1 [3,526 kB]\n",
      "Get:2 http://archive.ubuntu.com/ubuntu bionic/universe amd64 fonts-ipafont-mincho all 00303-18ubuntu1 [4,725 kB]\n",
      "Fetched 8,251 kB in 1s (7,357 kB/s)\n",
      "Selecting previously unselected package fonts-ipafont-gothic.\n",
      "(Reading database ... 131304 files and directories currently installed.)\n",
      "Preparing to unpack .../fonts-ipafont-gothic_00303-18ubuntu1_all.deb ...\n",
      "Unpacking fonts-ipafont-gothic (00303-18ubuntu1) ...\n",
      "Selecting previously unselected package fonts-ipafont-mincho.\n",
      "Preparing to unpack .../fonts-ipafont-mincho_00303-18ubuntu1_all.deb ...\n",
      "Unpacking fonts-ipafont-mincho (00303-18ubuntu1) ...\n",
      "Setting up fonts-ipafont-gothic (00303-18ubuntu1) ...\n",
      "update-alternatives: using /usr/share/fonts/opentype/ipafont-gothic/ipag.ttf to provide /usr/share/fonts/truetype/fonts-japanese-gothic.ttf (fonts-japanese-gothic.ttf) in auto mode\n",
      "Setting up fonts-ipafont-mincho (00303-18ubuntu1) ...\n",
      "update-alternatives: using /usr/share/fonts/opentype/ipafont-mincho/ipam.ttf to provide /usr/share/fonts/truetype/fonts-japanese-mincho.ttf (fonts-japanese-mincho.ttf) in auto mode\n",
      "Processing triggers for fontconfig (2.12.6-0ubuntu2) ...\n"
     ]
    }
   ],
   "source": [
    "!apt -y install fonts-ipafont-gothic"
   ]
  },
  {
   "cell_type": "markdown",
   "metadata": {
    "colab_type": "text",
    "id": "5fnbc2yUJfbR"
   },
   "source": [
    "フォントキャッシュを再構築"
   ]
  },
  {
   "cell_type": "code",
   "execution_count": 0,
   "metadata": {
    "colab": {},
    "colab_type": "code",
    "id": "iyU_9-uaJRys"
   },
   "outputs": [],
   "source": [
    "import matplotlib.pyplot as plt\n",
    "from matplotlib import font_manager\n",
    "\n",
    "font_manager._rebuild()"
   ]
  },
  {
   "cell_type": "markdown",
   "metadata": {},
   "source": [
    "Matplotlibの環境変数を変更"
   ]
  },
  {
   "cell_type": "code",
   "execution_count": 0,
   "metadata": {
    "colab": {},
    "colab_type": "code",
    "id": "jtsi9-4wJnk9"
   },
   "outputs": [],
   "source": [
    "plt.rcParams[\"font.sans-serif\"] = \"IPAGothic\""
   ]
  },
  {
   "cell_type": "code",
   "execution_count": 0,
   "metadata": {
    "colab": {
     "base_uri": "https://localhost:8080/",
     "height": 299
    },
    "colab_type": "code",
    "id": "hIK9nrlhJ4t9",
    "outputId": "c42c0832-f25f-41d3-81ed-68e64ac798da"
   },
   "outputs": [
    {
     "data": {
      "text/plain": [
       "Text(0.5, 1.0, '日本語')"
      ]
     },
     "execution_count": 4,
     "metadata": {
      "tags": []
     },
     "output_type": "execute_result"
    },
    {
     "data": {
      "image/png": "[encoded data removed]",
      "text/plain": [
       "<Figure size 432x288 with 1 Axes>"
      ]
     },
     "metadata": {
      "tags": []
     },
     "output_type": "display_data"
    }
   ],
   "source": [
    "fig, ax = plt.subplots()\n",
    "ax.set_title(\"日本語\")"
   ]
  },
  {
   "cell_type": "markdown",
   "metadata": {
    "colab_type": "text",
    "id": "RmZYOJsmMnqh"
   },
   "source": [
    "## Windows / Macの場合"
   ]
  },
  {
   "cell_type": "markdown",
   "metadata": {
    "colab_type": "text",
    "id": "5jWBCn_qKlnY"
   },
   "source": [
    "* Windowsの例\n",
    "\n",
    "```python\n",
    "plt.rcParams[\"font.sans-serif\"] = \"Yu Mincho\"\n",
    "```\n",
    "\n",
    "* Macの例\n",
    "\n",
    "```python\n",
    "plt.rcParams[\"font.sans-serif\"] = \"Osaka\"\n",
    "```"
   ]
  },
  {
   "cell_type": "code",
   "execution_count": 0,
   "metadata": {
    "colab": {},
    "colab_type": "code",
    "id": "90Ji22lOKBVH"
   },
   "outputs": [],
   "source": []
  }
 ],
 "metadata": {
  "colab": {
   "name": "3-A-matplotlib-font.ipynb",
   "provenance": [],
   "version": "0.3.2"
  },
  "kernelspec": {
   "display_name": "Python 3",
   "language": "python",
   "name": "python3"
  },
  "language_info": {
   "codemirror_mode": {
    "name": "ipython",
    "version": 3
   },
   "file_extension": ".py",
   "mimetype": "text/x-python",
   "name": "python",
   "nbconvert_exporter": "python",
   "pygments_lexer": "ipython3",
   "version": "3.7.2"
  }
 },
 "nbformat": 4,
 "nbformat_minor": 1
}
