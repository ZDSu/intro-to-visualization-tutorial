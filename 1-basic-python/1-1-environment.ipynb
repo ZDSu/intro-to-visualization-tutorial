{
 "cells": [
  {
   "cell_type": "markdown",
   "metadata": {},
   "source": [
    "# 1-1-Pythonの環境と実行方法\n",
    "\n",
    "- Pythonのバージョン\n",
    "- Pythonの環境構築方法\n",
    "- Pythonの実行方法"
   ]
  },
  {
   "cell_type": "markdown",
   "metadata": {},
   "source": [
    "# Pythonのバージョン\n",
    "\n",
    "- Python 3\n",
    "- Python 2 << 2020年1月でメンテナンス終了\n",
    "\n",
    "Python 3を使っていく\n",
    "\n",
    "\n",
    "## バージョン互換性\n",
    "\n",
    "Python 3 と Python 2 で互換性が無い。機能的には同じだが、文法など異なっている部分がある。\n",
    "Python 2のコードを見ることはあるが、これからはPython 3だけを学べばよい\n",
    "\n",
    "### 主な違い\n",
    "\n",
    "- print関数 vs print文\n",
    "- 文字列をUnicodeで扱う\n",
    "- 標準パッケージの配置変更\n",
    "- イテレータを返す関数、メソッドが変更"
   ]
  },
  {
   "cell_type": "markdown",
   "metadata": {},
   "source": [
    "# Pythonの環境構築方法\n",
    "\n",
    "- 公式インストーラー　・・python.orgで配布\n",
    "- OSパッケージマネージャーが提供　・・apt-get / yum など\n",
    "- サードパーティーディストリビューション　・・Anaconda など\n",
    "- SaaSサービス　・・Python実行環境のクラウドサービス　(Colaboratory(Google)やAWS Lambdaなど)\n",
    "\n",
    "## 詳細解説\n",
    "\n",
    "https://www.google.com/url?q=https://www.python.jp/install/install.html&sa=D&ust=1555898985465000&usg=AFQjCNEkAEugkoGaKkT_65pbCmfniK0sXg"
   ]
  },
  {
   "cell_type": "markdown",
   "metadata": {},
   "source": [
    "# Pythonの実行方法\n",
    "\n",
    "- 対話モード\n",
    "- コマンド実行 (`module.py` を実行)\n",
    "- Jupyter Notebook\n",
    "- 他\n",
    "\n",
    "このチュートリアルでは、Jupyter Notebook上で実行する"
   ]
  },
  {
   "cell_type": "code",
   "execution_count": null,
   "metadata": {},
   "outputs": [],
   "source": []
  }
 ],
 "metadata": {
  "kernelspec": {
   "display_name": "Python 3",
   "language": "python",
   "name": "python3"
  },
  "language_info": {
   "codemirror_mode": {
    "name": "ipython",
    "version": 3
   },
   "file_extension": ".py",
   "mimetype": "text/x-python",
   "name": "python",
   "nbconvert_exporter": "python",
   "pygments_lexer": "ipython3",
   "version": "3.7.2"
  }
 },
 "nbformat": 4,
 "nbformat_minor": 2
}
