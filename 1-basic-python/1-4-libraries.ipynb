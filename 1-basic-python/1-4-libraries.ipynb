{
 "cells": [
  {
   "cell_type": "markdown",
   "metadata": {},
   "source": [
    "# 1-4-ライブラリ\n",
    "\n",
    "- 標準ライブラリ\n",
    "- サードパーティ製パッケージ"
   ]
  },
  {
   "cell_type": "markdown",
   "metadata": {},
   "source": [
    "# 標準ライブラリ\n",
    "\n",
    "Pythonには数多くの標準ライブラリがある\n",
    "\n",
    "例えば、以下のような物がある\n",
    "\n",
    "- 日付を扱う datetime\n",
    "- 10進数を扱う decimal\n",
    "- 分数を扱う fractions\n",
    "- 乱数を扱う random\n",
    "- 正規表現を使う re\n",
    "- 数学関係 math\n",
    "\n",
    "\n",
    "https://docs.python.org/ja/3/library/index.html"
   ]
  },
  {
   "cell_type": "code",
   "execution_count": 1,
   "metadata": {},
   "outputs": [
    {
     "data": {
      "text/plain": [
       "3"
      ]
     },
     "execution_count": 1,
     "metadata": {},
     "output_type": "execute_result"
    }
   ],
   "source": [
    "import random\n",
    "random.choice([1, 2, 3])"
   ]
  },
  {
   "cell_type": "code",
   "execution_count": 2,
   "metadata": {},
   "outputs": [
    {
     "data": {
      "text/plain": [
       "0.14415281976672079"
      ]
     },
     "execution_count": 2,
     "metadata": {},
     "output_type": "execute_result"
    }
   ],
   "source": [
    "random.random()"
   ]
  },
  {
   "cell_type": "code",
   "execution_count": 3,
   "metadata": {},
   "outputs": [
    {
     "data": {
      "text/plain": [
       "<re.Match object; span=(4, 7), match='234'>"
      ]
     },
     "execution_count": 3,
     "metadata": {},
     "output_type": "execute_result"
    }
   ],
   "source": [
    "import re\n",
    "re.search(r'[0-9]+', 'test234')"
   ]
  },
  {
   "cell_type": "code",
   "execution_count": 4,
   "metadata": {},
   "outputs": [
    {
     "data": {
      "text/plain": [
       "0.0015926529164868282"
      ]
     },
     "execution_count": 4,
     "metadata": {},
     "output_type": "execute_result"
    }
   ],
   "source": [
    "import math\n",
    "math.sin(3.14)"
   ]
  },
  {
   "cell_type": "code",
   "execution_count": 5,
   "metadata": {},
   "outputs": [
    {
     "data": {
      "text/plain": [
       "0.0"
      ]
     },
     "execution_count": 5,
     "metadata": {},
     "output_type": "execute_result"
    }
   ],
   "source": [
    "from math import sin\n",
    "sin(0)"
   ]
  },
  {
   "cell_type": "code",
   "execution_count": 6,
   "metadata": {},
   "outputs": [
    {
     "data": {
      "text/plain": [
       "0.9999996829318346"
      ]
     },
     "execution_count": 6,
     "metadata": {},
     "output_type": "execute_result"
    }
   ],
   "source": [
    "import math as m\n",
    "m.sin(1.57)"
   ]
  },
  {
   "cell_type": "markdown",
   "metadata": {},
   "source": [
    "# サードパーティ製パッケージ\n",
    "\n",
    "Python標準にない機能を提供\n",
    "\n",
    "例えば、以下のような物がある\n",
    "\n",
    "- NumPy (配列演算)\n",
    "- SciPy (科学技術計算)\n",
    "- pandas (DataFrame)\n",
    "- Matplotlib (可視化ツール)\n",
    "- Scikit-learn (機械学習ツールキット)\n",
    "- Jupyter Notebook (ブラウザ上でPythonの実行ができる)\n",
    "- BeautifulSoup4 (HTML解析)\n",
    "\n",
    "## 導入方法\n",
    "\n",
    "- pipを使う\n",
    "- Anacondaに同梱 もしくは condaを使う\n",
    "\n",
    "```\n",
    "$ pip install numpy\n",
    "```"
   ]
  },
  {
   "cell_type": "code",
   "execution_count": 7,
   "metadata": {},
   "outputs": [
    {
     "data": {
      "text/plain": [
       "array([[1, 2, 3],\n",
       "       [4, 5, 6]])"
      ]
     },
     "execution_count": 7,
     "metadata": {},
     "output_type": "execute_result"
    }
   ],
   "source": [
    "import numpy as np\n",
    "np.array([[1, 2, 3], [4, 5, 6]])"
   ]
  },
  {
   "cell_type": "code",
   "execution_count": 8,
   "metadata": {},
   "outputs": [
    {
     "data": {
      "text/plain": [
       "array([[22, 28],\n",
       "       [49, 64]])"
      ]
     },
     "execution_count": 8,
     "metadata": {},
     "output_type": "execute_result"
    }
   ],
   "source": [
    "X1 = np.array([[1, 2, 3], [4, 5, 6]])\n",
    "X2 = np.array([[1, 2], [3, 4], [5, 6]])\n",
    "X1 @ X2"
   ]
  },
  {
   "cell_type": "code",
   "execution_count": 9,
   "metadata": {},
   "outputs": [
    {
     "data": {
      "text/plain": [
       "array([-1.0198376])"
      ]
     },
     "execution_count": 9,
     "metadata": {},
     "output_type": "execute_result"
    }
   ],
   "source": [
    "from scipy.stats import norm\n",
    "norm.rvs(loc=0, scale=1, size=1)"
   ]
  },
  {
   "cell_type": "code",
   "execution_count": 10,
   "metadata": {},
   "outputs": [
    {
     "data": {
      "text/plain": [
       "array([ 1.13223686, -1.66794401,  0.49140117, -1.18867884, -1.73186696,\n",
       "       -0.78691339,  0.30476353, -0.04791774, -1.47455803, -0.58253347,\n",
       "        0.35082675, -1.42326827, -0.1000032 ,  0.09969498,  1.05559651,\n",
       "       -0.61465086, -0.25999572,  0.56524017, -2.00910602, -0.61887752,\n",
       "        1.53611454, -0.05377872, -0.74383391,  0.13471359,  0.49923096,\n",
       "       -0.58792337,  1.66057311,  0.07293652, -0.35258253,  1.36850609,\n",
       "       -1.21357311,  0.31734337,  0.6250252 ,  0.32992956, -1.12685079,\n",
       "       -0.41485398,  1.38154289, -1.07763434,  0.58456852,  0.31963053,\n",
       "        0.24448625, -0.60308526, -0.84136372,  0.61614626,  0.12075301,\n",
       "        0.22489721, -0.11287585,  0.11136136, -0.36148318,  2.12267958,\n",
       "       -0.61361063,  1.80563203,  0.6303375 , -1.80320496,  0.16713603,\n",
       "       -2.06455036,  0.10152395,  0.42099639,  0.39874399, -0.79999338,\n",
       "       -0.11760937,  0.80659304, -0.38057281, -0.98109761,  0.02545356,\n",
       "        1.17184805,  0.57539564,  0.12432134, -2.38075574, -0.41192211,\n",
       "       -0.13863693, -0.88214715, -0.81611065, -0.889066  , -1.80718575,\n",
       "        2.01412128, -0.48620735, -1.7479746 ,  0.18698535,  1.61964531,\n",
       "        0.21558607,  0.0932811 ,  1.23839945,  1.75981476,  0.30547781,\n",
       "        0.50866539,  0.56489744, -2.34880336, -0.37968171, -0.27834834,\n",
       "        0.35231117,  0.46326595, -1.10318266,  0.84332139, -0.11511827,\n",
       "       -0.16819516,  0.72692936,  0.43146786, -0.19722296,  1.08061164])"
      ]
     },
     "execution_count": 10,
     "metadata": {},
     "output_type": "execute_result"
    }
   ],
   "source": [
    "norm.rvs(loc=0, scale=1, size=100)"
   ]
  },
  {
   "cell_type": "code",
   "execution_count": 11,
   "metadata": {},
   "outputs": [
    {
     "data": {
      "text/html": [
       "<div>\n",
       "<style scoped>\n",
       "    .dataframe tbody tr th:only-of-type {\n",
       "        vertical-align: middle;\n",
       "    }\n",
       "\n",
       "    .dataframe tbody tr th {\n",
       "        vertical-align: top;\n",
       "    }\n",
       "\n",
       "    .dataframe thead th {\n",
       "        text-align: right;\n",
       "    }\n",
       "</style>\n",
       "<table border=\"1\" class=\"dataframe\">\n",
       "  <thead>\n",
       "    <tr style=\"text-align: right;\">\n",
       "      <th></th>\n",
       "      <th>0</th>\n",
       "      <th>1</th>\n",
       "      <th>2</th>\n",
       "    </tr>\n",
       "  </thead>\n",
       "  <tbody>\n",
       "    <tr>\n",
       "      <th>0</th>\n",
       "      <td>1</td>\n",
       "      <td>2</td>\n",
       "      <td>3</td>\n",
       "    </tr>\n",
       "    <tr>\n",
       "      <th>1</th>\n",
       "      <td>4</td>\n",
       "      <td>5</td>\n",
       "      <td>6</td>\n",
       "    </tr>\n",
       "    <tr>\n",
       "      <th>2</th>\n",
       "      <td>7</td>\n",
       "      <td>8</td>\n",
       "      <td>9</td>\n",
       "    </tr>\n",
       "  </tbody>\n",
       "</table>\n",
       "</div>"
      ],
      "text/plain": [
       "   0  1  2\n",
       "0  1  2  3\n",
       "1  4  5  6\n",
       "2  7  8  9"
      ]
     },
     "execution_count": 11,
     "metadata": {},
     "output_type": "execute_result"
    }
   ],
   "source": [
    "import pandas as pd\n",
    "df = pd.DataFrame([[1, 2, 3], [4, 5, 6], [7, 8, 9]])\n",
    "df"
   ]
  },
  {
   "cell_type": "code",
   "execution_count": 12,
   "metadata": {},
   "outputs": [
    {
     "data": {
      "text/plain": [
       "0    4.0\n",
       "1    5.0\n",
       "2    6.0\n",
       "dtype: float64"
      ]
     },
     "execution_count": 12,
     "metadata": {},
     "output_type": "execute_result"
    }
   ],
   "source": [
    "df.mean()"
   ]
  },
  {
   "cell_type": "code",
   "execution_count": 13,
   "metadata": {},
   "outputs": [
    {
     "data": {
      "text/plain": [
       "[<matplotlib.lines.Line2D at 0x11affbcc0>,\n",
       " <matplotlib.lines.Line2D at 0x11affbe10>,\n",
       " <matplotlib.lines.Line2D at 0x11affbf60>]"
      ]
     },
     "execution_count": 13,
     "metadata": {},
     "output_type": "execute_result"
    },
    {
     "data": {
      "image/png": "[encoded data removed]",
      "text/plain": [
       "<Figure size 432x288 with 1 Axes>"
      ]
     },
     "metadata": {
      "needs_background": "light"
     },
     "output_type": "display_data"
    }
   ],
   "source": [
    "%matplotlib inline\n",
    "import matplotlib.pyplot as plt\n",
    "plt.plot(df)"
   ]
  },
  {
   "cell_type": "code",
   "execution_count": 14,
   "metadata": {},
   "outputs": [
    {
     "data": {
      "text/plain": [
       "[<matplotlib.lines.Line2D at 0x11b182e80>]"
      ]
     },
     "execution_count": 14,
     "metadata": {},
     "output_type": "execute_result"
    },
    {
     "data": {
      "image/png": "[encoded data removed]",
      "text/plain": [
       "<Figure size 432x288 with 1 Axes>"
      ]
     },
     "metadata": {
      "needs_background": "light"
     },
     "output_type": "display_data"
    }
   ],
   "source": [
    "x = np.linspace(norm.ppf(0.01), norm.ppf(0.99), 100)\n",
    "rv = norm()\n",
    "plt.plot(x, rv.pdf(x), 'k-', lw=2, label='frozen pdf')"
   ]
  },
  {
   "cell_type": "code",
   "execution_count": 15,
   "metadata": {},
   "outputs": [],
   "source": [
    "from sklearn.datasets import load_breast_cancer\n",
    "data = load_breast_cancer()\n",
    "X = data.data\n",
    "y = 1 - data.target\n",
    "# ラベルの0と1を反転\n",
    "\n",
    "X = X[:, :10]\n",
    "from sklearn.linear_model import LogisticRegression\n",
    "model_lor = LogisticRegression(solver='lbfgs')\n",
    "model_lor.fit(X, y)\n",
    "y_pred = model_lor.predict(X)"
   ]
  },
  {
   "cell_type": "code",
   "execution_count": 16,
   "metadata": {},
   "outputs": [
    {
     "name": "stdout",
     "output_type": "stream",
     "text": [
      "[[337  20]\n",
      " [ 30 182]]\n"
     ]
    }
   ],
   "source": [
    "from sklearn.metrics import confusion_matrix\n",
    "cm = confusion_matrix(y, y_pred)\n",
    "print(cm)"
   ]
  },
  {
   "cell_type": "code",
   "execution_count": 17,
   "metadata": {},
   "outputs": [],
   "source": [
    "from sklearn.metrics import roc_curve\n",
    "probas = model_lor.predict_proba(X)\n",
    "fpr, tpr, thresholds = roc_curve(y, probas[:, 1])"
   ]
  },
  {
   "cell_type": "code",
   "execution_count": 18,
   "metadata": {},
   "outputs": [
    {
     "data": {
      "image/png": "[encoded data removed]",
      "text/plain": [
       "<Figure size 345.6x360 with 1 Axes>"
      ]
     },
     "metadata": {},
     "output_type": "display_data"
    }
   ],
   "source": [
    "%matplotlib inline\n",
    "import matplotlib.pyplot as plt\n",
    "plt.style.use('fivethirtyeight')\n",
    "\n",
    "fig, ax = plt.subplots()\n",
    "fig.set_size_inches(4.8, 5)\n",
    "\n",
    "ax.step(fpr, tpr, 'gray')\n",
    "ax.fill_between(fpr, tpr, 0, color='skyblue', alpha=0.8)\n",
    "ax.set_xlabel('False Positive Rate')\n",
    "ax.set_ylabel('True Positive Rate')\n",
    "ax.set_facecolor('xkcd:white')\n",
    "plt.show()"
   ]
  },
  {
   "cell_type": "code",
   "execution_count": null,
   "metadata": {},
   "outputs": [],
   "source": []
  }
 ],
 "metadata": {
  "kernelspec": {
   "display_name": "Python 3",
   "language": "python",
   "name": "python3"
  },
  "language_info": {
   "codemirror_mode": {
    "name": "ipython",
    "version": 3
   },
   "file_extension": ".py",
   "mimetype": "text/x-python",
   "name": "python",
   "nbconvert_exporter": "python",
   "pygments_lexer": "ipython3",
   "version": "3.7.2"
  }
 },
 "nbformat": 4,
 "nbformat_minor": 2
}
